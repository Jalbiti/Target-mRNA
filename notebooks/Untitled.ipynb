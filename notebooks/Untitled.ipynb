{
 "cells": [
  {
   "cell_type": "code",
   "execution_count": null,
   "id": "2ace4dc3",
   "metadata": {},
   "outputs": [],
   "source": [
    "import os\n",
    "import pdfplumber\n",
    "import pandas as pd\n",
    "import numpy as np\n",
    "import matplotlib.pyplot as plt"
   ]
  },
  {
   "cell_type": "code",
   "execution_count": null,
   "id": "92f406b5-3c5e-4a90-85c6-afdff16629e6",
   "metadata": {},
   "outputs": [],
   "source": [
    "pdf_path=os.path.expanduser(\"~/Desktop/RNA therapeutics/siRNA datasets/41587_2005_BFnbt1118_MOESM4_ESM.pdf\")\n",
    "all_data = []\n",
    "\n",
    "with pdfplumber.open(pdf_path) as pdf:\n",
    "    for page in pdf.pages:\n",
    "        tables = page.extract_tables()\n",
    "        for table in tables:\n",
    "            if table:  # ensure it's not empty\n",
    "                for row in table:\n",
    "                    all_data.append(row)\n",
    "\n",
    "# Combine all dataframes into a single dataframe\n",
    "df = pd.DataFrame(all_data)\n",
    "# Clean the dataframe\n",
    "df = df.drop(index=0) # Drop first row\n",
    "# Keep only second and last columns\n",
    "df = df.iloc[:, [1, -1]]\n",
    "# Rename columns\n",
    "df.columns = ['Seq', 'Activity']"
   ]
  },
  {
   "cell_type": "code",
   "execution_count": null,
   "id": "67427abd-4432-40b0-b541-69680a5e17f1",
   "metadata": {},
   "outputs": [],
   "source": [
    "# Plot the hitogram and density of activity\n",
    "activity_counts = np.array(df['Activity'], dtype=str).astype(float)\n",
    "plt.figure(figsize=(5, 4))\n",
    "plt.hist(activity_counts, bins=200, alpha=0.6, color='g')\n",
    "# plt.hist(activity_counts, bins=200, density=True, alpha=0.6, color='g')\n",
    "plt.title('Activity Histogram')\n",
    "plt.xlabel('Activity')\n",
    "# plt.ylabel('Density')\n",
    "plt.grid()\n",
    "plt.show()"
   ]
  }
 ],
 "metadata": {
  "kernelspec": {
   "display_name": ".venv",
   "language": "python",
   "name": "python3"
  },
  "language_info": {
   "codemirror_mode": {
    "name": "ipython",
    "version": 3
   },
   "file_extension": ".py",
   "mimetype": "text/x-python",
   "name": "python",
   "nbconvert_exporter": "python",
   "pygments_lexer": "ipython3",
   "version": "3.9.6"
  }
 },
 "nbformat": 4,
 "nbformat_minor": 5
}
